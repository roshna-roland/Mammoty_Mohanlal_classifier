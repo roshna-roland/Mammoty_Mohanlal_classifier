{
  "nbformat": 4,
  "nbformat_minor": 0,
  "metadata": {
    "colab": {
      "provenance": [],
      "mount_file_id": "1LIdCdsShjnGpNil_wabQkD3mSGRyJZzg",
      "authorship_tag": "ABX9TyPiTZRt0wHEpaiaZiBNgLXq",
      "include_colab_link": true
    },
    "kernelspec": {
      "name": "python3",
      "display_name": "Python 3"
    },
    "language_info": {
      "name": "python"
    }
  },
  "cells": [
    {
      "cell_type": "markdown",
      "metadata": {
        "id": "view-in-github",
        "colab_type": "text"
      },
      "source": [
        "<a href=\"https://colab.research.google.com/github/roshna-roland/Mammoty_Mohanlal_classifier/blob/main/NLP.ipynb\" target=\"_parent\"><img src=\"https://colab.research.google.com/assets/colab-badge.svg\" alt=\"Open In Colab\"/></a>"
      ]
    },
    {
      "cell_type": "code",
      "source": [
        "\n",
        "file = open(\"nlp_song_rosh.txt\")\n",
        "line=file.read()\n",
        "words = line.split()\n",
        "words"
      ],
      "metadata": {
        "colab": {
          "base_uri": "https://localhost:8080/"
        },
        "id": "joUU8A-eBAOp",
        "outputId": "bdc4d8cb-d4c6-42e7-a9ed-a7a9587a47a3"
      },
      "execution_count": null,
      "outputs": [
        {
          "output_type": "execute_result",
          "data": {
            "text/plain": [
              "['say',\n",
              " \"you'll\",\n",
              " 'remember',\n",
              " 'me',\n",
              " 'standing',\n",
              " 'in',\n",
              " 'a',\n",
              " 'nice',\n",
              " 'dress',\n",
              " 'staring',\n",
              " 'at',\n",
              " 'the',\n",
              " 'sunset',\n",
              " ',',\n",
              " 'babe',\n",
              " 'Red',\n",
              " 'lips',\n",
              " 'and',\n",
              " 'rosy',\n",
              " 'cheeks',\n",
              " 'say',\n",
              " \"you'll\",\n",
              " 'see',\n",
              " 'me',\n",
              " 'again',\n",
              " 'even',\n",
              " 'if',\n",
              " \"it's\",\n",
              " 'in',\n",
              " 'your',\n",
              " ',',\n",
              " 'wildest',\n",
              " 'dreams.']"
            ]
          },
          "metadata": {},
          "execution_count": 42
        }
      ]
    },
    {
      "cell_type": "code",
      "source": [
        "import nltk\n",
        "from nltk.corpus import stopwords\n",
        "nltk.download('stopwords')\n",
        "stopwords"
      ],
      "metadata": {
        "colab": {
          "base_uri": "https://localhost:8080/"
        },
        "id": "YCswRrAGE0mB",
        "outputId": "0b167359-fb21-43ec-c22c-7284fed46df1"
      },
      "execution_count": null,
      "outputs": [
        {
          "output_type": "stream",
          "name": "stderr",
          "text": [
            "[nltk_data] Downloading package stopwords to /root/nltk_data...\n",
            "[nltk_data]   Package stopwords is already up-to-date!\n"
          ]
        },
        {
          "output_type": "execute_result",
          "data": {
            "text/plain": [
              "<WordListCorpusReader in '/root/nltk_data/corpora/stopwords'>"
            ]
          },
          "metadata": {},
          "execution_count": 43
        }
      ]
    },
    {
      "cell_type": "markdown",
      "source": [
        "**STOPWORDS REMOVAL**"
      ],
      "metadata": {
        "id": "gzyl3pWbIQTt"
      }
    },
    {
      "cell_type": "code",
      "source": [
        "list = []\n",
        "for x in words:\n",
        "  if x not in stopwords.words('english'):\n",
        "    list.append(x)\n",
        "\n",
        "list"
      ],
      "metadata": {
        "colab": {
          "base_uri": "https://localhost:8080/"
        },
        "id": "ewKyjPNeAZ_T",
        "outputId": "6561a400-cfda-4717-dda0-8bce8f023036"
      },
      "execution_count": null,
      "outputs": [
        {
          "output_type": "execute_result",
          "data": {
            "text/plain": [
              "['say',\n",
              " 'remember',\n",
              " 'standing',\n",
              " 'nice',\n",
              " 'dress',\n",
              " 'staring',\n",
              " 'sunset',\n",
              " ',',\n",
              " 'babe',\n",
              " 'Red',\n",
              " 'lips',\n",
              " 'rosy',\n",
              " 'cheeks',\n",
              " 'say',\n",
              " 'see',\n",
              " 'even',\n",
              " ',',\n",
              " 'wildest',\n",
              " 'dreams.']"
            ]
          },
          "metadata": {},
          "execution_count": 44
        }
      ]
    },
    {
      "cell_type": "markdown",
      "source": [
        "**STEMMING**"
      ],
      "metadata": {
        "id": "Z5WrWF5XIYza"
      }
    },
    {
      "cell_type": "code",
      "source": [
        "from nltk.stem import PorterStemmer\n",
        "port = PorterStemmer()\n",
        "stemmed_words=[]\n",
        "for x in list:\n",
        "  stemmed_words.append(port.stem(x))\n",
        "\n",
        "stemmed_words\n"
      ],
      "metadata": {
        "colab": {
          "base_uri": "https://localhost:8080/"
        },
        "id": "_YAerD2cApTb",
        "outputId": "f014bd09-1c70-43a1-f013-c86a5e3c11b5"
      },
      "execution_count": null,
      "outputs": [
        {
          "output_type": "execute_result",
          "data": {
            "text/plain": [
              "['say',\n",
              " 'rememb',\n",
              " 'stand',\n",
              " 'nice',\n",
              " 'dress',\n",
              " 'stare',\n",
              " 'sunset',\n",
              " ',',\n",
              " 'babe',\n",
              " 'red',\n",
              " 'lip',\n",
              " 'rosi',\n",
              " 'cheek',\n",
              " 'say',\n",
              " 'see',\n",
              " 'even',\n",
              " ',',\n",
              " 'wildest',\n",
              " 'dreams.']"
            ]
          },
          "metadata": {},
          "execution_count": 45
        }
      ]
    },
    {
      "cell_type": "markdown",
      "source": [
        "LEMMATISATION"
      ],
      "metadata": {
        "id": "ZOjwNaIElaQM"
      }
    },
    {
      "cell_type": "code",
      "source": [
        "from nltk.stem import WordNetLemmatizer\n",
        "from nltk.corpus import wordnet\n",
        "nltk.download('wordnet')"
      ],
      "metadata": {
        "colab": {
          "base_uri": "https://localhost:8080/"
        },
        "id": "kLKr1EAPjoaE",
        "outputId": "03322ddd-2388-470e-dbee-8de575807313"
      },
      "execution_count": null,
      "outputs": [
        {
          "output_type": "stream",
          "name": "stderr",
          "text": [
            "[nltk_data] Downloading package wordnet to /root/nltk_data...\n",
            "[nltk_data]   Package wordnet is already up-to-date!\n"
          ]
        },
        {
          "output_type": "execute_result",
          "data": {
            "text/plain": [
              "True"
            ]
          },
          "metadata": {},
          "execution_count": 48
        }
      ]
    },
    {
      "cell_type": "code",
      "source": [
        "lemma = WordNetLemmatizer()\n",
        "lemmatized_words = []\n",
        "\n",
        "for x in list:\n",
        "  lemmatized_words.append(lemma.lemmatize(x,pos=wordnet.VERB))\n",
        "\n",
        "lemmatized_words\n",
        "\n"
      ],
      "metadata": {
        "colab": {
          "base_uri": "https://localhost:8080/"
        },
        "id": "PO0KIh8hl_d0",
        "outputId": "e4e0e2da-fd19-4fd5-e9d2-d2d75e478f8e"
      },
      "execution_count": null,
      "outputs": [
        {
          "output_type": "execute_result",
          "data": {
            "text/plain": [
              "['say',\n",
              " 'remember',\n",
              " 'stand',\n",
              " 'nice',\n",
              " 'dress',\n",
              " 'star',\n",
              " 'sunset',\n",
              " ',',\n",
              " 'babe',\n",
              " 'Red',\n",
              " 'lips',\n",
              " 'rosy',\n",
              " 'cheek',\n",
              " 'say',\n",
              " 'see',\n",
              " 'even',\n",
              " ',',\n",
              " 'wildest',\n",
              " 'dreams.']"
            ]
          },
          "metadata": {},
          "execution_count": 50
        }
      ]
    },
    {
      "cell_type": "code",
      "source": [],
      "metadata": {
        "id": "Tgm-Yz3tpdXt"
      },
      "execution_count": null,
      "outputs": []
    }
  ]
}